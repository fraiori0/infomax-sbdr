{
 "cells": [
  {
   "cell_type": "code",
   "execution_count": null,
   "metadata": {},
   "outputs": [],
   "source": [
    "import pandas as pd\n",
    "import plotly.graph_objects as go\n",
    "import os\n",
    "import numpy as np\n",
    "\n",
    "# Load the results\n",
    "DIR_PATH = os.path.join(os.getcwd())\n",
    "INFO_SDM_PATH = os.path.join(DIR_PATH, 'per_sample_mean_activity.csv')\n",
    "BLOCK_INFO_SDM_PATH = os.path.join(DIR_PATH, 'per_sample_mean_activity_block.csv')"
   ]
  },
  {
   "cell_type": "code",
   "execution_count": null,
   "metadata": {},
   "outputs": [],
   "source": [
    "\n",
    "info_sdm_results = pd.read_csv(INFO_SDM_PATH, header=0, index_col=None)\n",
    "block_info_sdm_results = pd.read_csv(BLOCK_INFO_SDM_PATH, header=0, index_col=None)"
   ]
  },
  {
   "cell_type": "code",
   "execution_count": null,
   "metadata": {},
   "outputs": [],
   "source": [
    "max_bins = np.max([info_sdm_results.max(), block_info_sdm_results.max()])\n",
    "min_bins = np.min([info_sdm_results.min(), block_info_sdm_results.min()])\n",
    "bins_range = [min_bins, max_bins]\n",
    "n_bins = 4 * int(np.sqrt(np.sqrt(len(info_sdm_results))))"
   ]
  },
  {
   "cell_type": "code",
   "execution_count": null,
   "metadata": {},
   "outputs": [],
   "source": [
    "# plot losses\n",
    "fig = go.Figure()\n",
    "\n",
    "fig.add_trace(\n",
    "    go.Histogram(\n",
    "        x=info_sdm_results[\"activity\"],\n",
    "        xbins=dict(\n",
    "            start=bins_range[0],\n",
    "            end=bins_range[1],\n",
    "            size=(bins_range[1] - bins_range[0]) / n_bins,\n",
    "        ),\n",
    "        marker_color=\"#d32554\",\n",
    "        histnorm='percent',\n",
    "        name='InfoSDR-1'\n",
    "    )\n",
    ")\n",
    "\n",
    "fig.add_trace(\n",
    "    go.Histogram(\n",
    "        x=block_info_sdm_results[\"activity\"],\n",
    "        xbins=dict(\n",
    "            start=bins_range[0],\n",
    "            end=bins_range[1],\n",
    "            size=(bins_range[1] - bins_range[0]) / n_bins,\n",
    "        ),\n",
    "        marker_color=\"#3c89b8\",\n",
    "        histnorm='percent',\n",
    "        name='InfoSDR-2'\n",
    "    )\n",
    ")"
   ]
  },
  {
   "cell_type": "code",
   "execution_count": null,
   "metadata": {},
   "outputs": [],
   "source": [
    "# make the graph square\n",
    "fig.update_layout(\n",
    "    width=500,\n",
    "    height=500,\n",
    "    autosize=False,\n",
    ")\n",
    "# make the font black\n",
    "fig.update_layout(\n",
    "    font=dict(\n",
    "        color=\"black\"\n",
    "    )\n",
    ")\n",
    "fig.update_layout(\n",
    "    barmode='overlay',\n",
    ")\n",
    "# change theme\n",
    "fig.layout.template = 'plotly_white'\n",
    "fig.show()"
   ]
  },
  {
   "cell_type": "code",
   "execution_count": null,
   "metadata": {},
   "outputs": [],
   "source": [
    "# # Increase the thickness of lines\n",
    "# fig.update_traces(line_width=5)\n",
    "\n",
    "# Increas font size\n",
    "fig.update_layout(font=dict(size=18))\n",
    "\n",
    "fig.show()"
   ]
  },
  {
   "cell_type": "code",
   "execution_count": null,
   "metadata": {},
   "outputs": [],
   "source": [
    "# Increase font size\n",
    "fig.update_layout(font=dict(size=18))\n",
    "# x axis ticks\n",
    "# fig.update_xaxes(tickvals=[0, 0.1, 0.2, 0.3, 0.4, 0.5], ticktext=[0, 0.1, 0.2, 0.3, 0.4, 0.5])\n",
    "# y axis ticks\n",
    "# fig.update_yaxes(tickvals=[0.4, 0.5, 0.6, 0.7, 0.8, 0.9, 1], ticktext=[0.4, 0.5, 0.6, 0.7, 0.8, 0.9, 1])\n",
    "# put legend inside plot\n",
    "fig.update_layout(legend=dict(\n",
    "    yanchor=\"top\",\n",
    "    y=0.99,\n",
    "    xanchor=\"right\",\n",
    "    x=0.99\n",
    "))\n",
    "fig.show()"
   ]
  },
  {
   "cell_type": "code",
   "execution_count": null,
   "metadata": {},
   "outputs": [],
   "source": [
    "# add title\n",
    "fig.update_layout(title_text='Distribution of Output Sparsity', title_x=0.5)\n",
    "\n",
    "# x and y axis labels\n",
    "fig.update_xaxes(title_text='Sparsity', title_font=dict(size=20))\n",
    "fig.update_yaxes(title_text='Percentage of Samples', title_font=dict(size=20))\n",
    "\n",
    "fig.show()"
   ]
  },
  {
   "cell_type": "code",
   "execution_count": null,
   "metadata": {},
   "outputs": [],
   "source": [
    "# export to pdf\n",
    "fig.write_image(\"sparsity_sample_activity.png\", scale=3)"
   ]
  }
 ],
 "metadata": {
  "kernelspec": {
   "display_name": "jax1",
   "language": "python",
   "name": "python3"
  },
  "language_info": {
   "codemirror_mode": {
    "name": "ipython",
    "version": 3
   },
   "file_extension": ".py",
   "mimetype": "text/x-python",
   "name": "python",
   "nbconvert_exporter": "python",
   "pygments_lexer": "ipython3",
   "version": "3.10.12"
  }
 },
 "nbformat": 4,
 "nbformat_minor": 2
}
