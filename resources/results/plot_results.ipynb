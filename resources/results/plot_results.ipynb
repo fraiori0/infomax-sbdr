{
 "cells": [
  {
   "cell_type": "code",
   "execution_count": null,
   "metadata": {},
   "outputs": [],
   "source": [
    "import pandas as pd\n",
    "import plotly.graph_objects as go\n",
    "import os\n",
    "import numpy as np\n",
    "\n",
    "# Load the results\n",
    "DIR_PATH = os.path.join(os.getcwd())\n",
    "MLP_PATH = os.path.join(DIR_PATH, 'mlp_accuracy_vs_noise.csv')\n",
    "INFO_SDM_PATH = os.path.join(DIR_PATH, 'info_sdm_accuracy_vs_noise.csv')\n",
    "INFO_SMD_PURE_PATH = os.path.join(DIR_PATH, 'info_sdm_sdr_accuracy_vs_noise.csv')\n",
    "BLOCK_INFO_SDM_PATH = os.path.join(DIR_PATH, 'block_info_sdm_accuracy_vs_noise.csv')\n",
    "BLOCK_INFO_SMD_PURE_PATH = os.path.join(DIR_PATH, 'block_info_sdm_sdr_accuracy_vs_noise.csv')"
   ]
  },
  {
   "cell_type": "code",
   "execution_count": null,
   "metadata": {},
   "outputs": [],
   "source": [
    "mlp_results = pd.read_csv(MLP_PATH, header=0, index_col=None)\n",
    "info_sdm_results = pd.read_csv(INFO_SDM_PATH, header=0, index_col=None)\n",
    "block_info_sdm_results = pd.read_csv(BLOCK_INFO_SDM_PATH, header=0, index_col=None)\n",
    "info_sdm_pure_results = pd.read_csv(INFO_SMD_PURE_PATH, header=0, index_col=None)\n",
    "block_info_sdm_pure_results = pd.read_csv(BLOCK_INFO_SMD_PURE_PATH, header=0, index_col=None)"
   ]
  },
  {
   "cell_type": "code",
   "execution_count": null,
   "metadata": {},
   "outputs": [],
   "source": [
    "# plot losses\n",
    "fig = go.Figure()\n",
    "fig.add_trace(go.Scatter(x=mlp_results['sp_noise_amount'], y=mlp_results['accuracy'], mode='lines', name='MLP', marker_color='#fa9747'))\n",
    "fig.add_trace(go.Scatter(x=info_sdm_results['sp_noise_amount'], y=info_sdm_results['accuracy'], mode='lines', name='InfoSDR-1', marker_color='#d32554'))\n",
    "fig.add_trace(go.Scatter(x=block_info_sdm_results['sp_noise_amount'], y=block_info_sdm_results['accuracy'], mode='lines', name='InfoSDR-2', marker_color='#3c89b8'))\n",
    "fig.add_trace(go.Scatter(x=info_sdm_pure_results['sp_noise_amount'], y=info_sdm_pure_results['accuracy'], mode='lines', name='InfoSDR-1 Semantic', marker_color='#d32554', line=dict(dash='dash')))\n",
    "fig.add_trace(go.Scatter(x=block_info_sdm_pure_results['sp_noise_amount'], y=block_info_sdm_pure_results['accuracy'], mode='lines', name='InfoSDR-2 Semantic', marker_color='#3c89b8', line=dict(dash='dash')))"
   ]
  },
  {
   "cell_type": "code",
   "execution_count": null,
   "metadata": {},
   "outputs": [],
   "source": [
    "# make the graph square\n",
    "fig.update_layout(\n",
    "    width=500,\n",
    "    height=500,\n",
    "    autosize=False,\n",
    ")\n",
    "# make the font black\n",
    "fig.update_layout(\n",
    "    font=dict(\n",
    "        color=\"black\"\n",
    "    )\n",
    ")\n",
    "# change theme\n",
    "fig.layout.template = 'plotly_white'\n",
    "fig.show()"
   ]
  },
  {
   "cell_type": "code",
   "execution_count": null,
   "metadata": {},
   "outputs": [],
   "source": [
    "# Increase the thickness of lines\n",
    "fig.update_traces(line_width=5)\n",
    "\n",
    "# Increas font size\n",
    "fig.update_layout(font=dict(size=18))\n",
    "\n",
    "fig.show()"
   ]
  },
  {
   "cell_type": "code",
   "execution_count": null,
   "metadata": {},
   "outputs": [],
   "source": [
    "# Increase font size\n",
    "fig.update_layout(font=dict(size=18))\n",
    "fig.update_xaxes(tickvals=[0, 0.1, 0.2, 0.3, 0.4, 0.5], ticktext=[0, 0.1, 0.2, 0.3, 0.4, 0.5])\n",
    "# y axis ticks\n",
    "fig.update_yaxes(tickvals=[0.4, 0.5, 0.6, 0.7, 0.8, 0.9, 1], ticktext=[0.4, 0.5, 0.6, 0.7, 0.8, 0.9, 1])\n",
    "# put legend inside plot\n",
    "fig.update_layout(legend=dict(\n",
    "    yanchor=\"top\",\n",
    "    y=0.99,\n",
    "    xanchor=\"right\",\n",
    "    x=0.99\n",
    "))\n",
    "# reduce size of legend\n",
    "fig.update_layout(legend=dict(\n",
    "    font=dict(\n",
    "        size=12\n",
    "    )\n",
    "))\n",
    "fig.show()"
   ]
  },
  {
   "cell_type": "code",
   "execution_count": null,
   "metadata": {},
   "outputs": [],
   "source": [
    "# add title\n",
    "fig.update_layout(title_text='Accuracy vs Noise', title_x=0.5)\n",
    "\n",
    "# x and y axis labels\n",
    "fig.update_xaxes(title_text='Noise Amount', title_font=dict(size=20))\n",
    "fig.update_yaxes(title_text='Accuracy', title_font=dict(size=20))\n",
    "\n",
    "fig.show()"
   ]
  },
  {
   "cell_type": "code",
   "execution_count": null,
   "metadata": {},
   "outputs": [],
   "source": [
    "# export to pdf\n",
    "fig.write_image(\"accuracy_vs_noise.png\", scale=3)"
   ]
  }
 ],
 "metadata": {
  "kernelspec": {
   "display_name": "jax1",
   "language": "python",
   "name": "python3"
  },
  "language_info": {
   "codemirror_mode": {
    "name": "ipython",
    "version": 3
   },
   "file_extension": ".py",
   "mimetype": "text/x-python",
   "name": "python",
   "nbconvert_exporter": "python",
   "pygments_lexer": "ipython3",
   "version": "3.10.12"
  }
 },
 "nbformat": 4,
 "nbformat_minor": 2
}
